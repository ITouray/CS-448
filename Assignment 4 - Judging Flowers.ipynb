{
  "cells": [
    {
      "cell_type": "markdown",
      "source": [
        "<a href=\"https://github.com/ITouray/CS-448/blob/main/Assignment%204%20-%20Judging%20Flowers.ipynb\">\n",
        "  <img src=\"https://colab.research.google.com/assets/colab-badge.svg\" alt=\"Open In Colab\"/>\n",
        "</a>"
      ],
      "metadata": {
        "id": "FBXnK-D3q9rI"
      }
    },
    {
      "cell_type": "code",
      "execution_count": null,
      "metadata": {
        "id": "Nv3GlFa4q5Tg"
      },
      "outputs": [],
      "source": [
        "# Imports and pip installations (if needed)\n",
        "import pandas as pd\n",
        "import numpy as np\n",
        "import matplotlib.pyplot as plt\n",
        "from sklearn.model_selection import train_test_split\n",
        "from sklearn import datasets\n",
        "from sklearn import svm\n",
        "from sklearn import metrics\n",
        "from sklearn.svm import SVC\n",
        "from sklearn.neighbors import KNeighborsClassifier\n",
        "from sklearn.metrics import classification_report\n",
        "from sklearn.datasets import make_classification\n",
        "from sklearn.neural_network import MLPClassifier\n",
        "from IPython.display import display, Math, Latex\n",
        "from sklearn.datasets import load_iris\n",
        "from sklearn.linear_model import LogisticRegression\n",
        "from sklearn.metrics import confusion_matrix"
      ]
    },
    {
      "cell_type": "markdown",
      "metadata": {
        "id": "DD9NTKdcq5Th"
      },
      "source": [
        "# Part 1: Load the dataset\n"
      ]
    },
    {
      "cell_type": "code",
      "execution_count": null,
      "metadata": {
        "id": "vhlkHUImq5Tj"
      },
      "outputs": [],
      "source": [
        "# Load the dataset (load remotely, not locally)\n",
        "iris = datasets.load_iris()"
      ]
    },
    {
      "cell_type": "code",
      "execution_count": null,
      "metadata": {
        "id": "DaCoTRO-q5Tj",
        "outputId": "784dbab4-57de-40fb-99f6-4727cb5b2d80"
      },
      "outputs": [
        {
          "data": {
            "text/html": [
              "<div>\n",
              "<style scoped>\n",
              "    .dataframe tbody tr th:only-of-type {\n",
              "        vertical-align: middle;\n",
              "    }\n",
              "\n",
              "    .dataframe tbody tr th {\n",
              "        vertical-align: top;\n",
              "    }\n",
              "\n",
              "    .dataframe thead th {\n",
              "        text-align: right;\n",
              "    }\n",
              "</style>\n",
              "<table border=\"1\" class=\"dataframe\">\n",
              "  <thead>\n",
              "    <tr style=\"text-align: right;\">\n",
              "      <th></th>\n",
              "      <th>0</th>\n",
              "      <th>1</th>\n",
              "      <th>2</th>\n",
              "      <th>3</th>\n",
              "    </tr>\n",
              "  </thead>\n",
              "  <tbody>\n",
              "    <tr>\n",
              "      <th>0</th>\n",
              "      <td>5.1</td>\n",
              "      <td>3.5</td>\n",
              "      <td>1.4</td>\n",
              "      <td>0.2</td>\n",
              "    </tr>\n",
              "    <tr>\n",
              "      <th>1</th>\n",
              "      <td>4.9</td>\n",
              "      <td>3.0</td>\n",
              "      <td>1.4</td>\n",
              "      <td>0.2</td>\n",
              "    </tr>\n",
              "    <tr>\n",
              "      <th>2</th>\n",
              "      <td>4.7</td>\n",
              "      <td>3.2</td>\n",
              "      <td>1.3</td>\n",
              "      <td>0.2</td>\n",
              "    </tr>\n",
              "    <tr>\n",
              "      <th>3</th>\n",
              "      <td>4.6</td>\n",
              "      <td>3.1</td>\n",
              "      <td>1.5</td>\n",
              "      <td>0.2</td>\n",
              "    </tr>\n",
              "    <tr>\n",
              "      <th>4</th>\n",
              "      <td>5.0</td>\n",
              "      <td>3.6</td>\n",
              "      <td>1.4</td>\n",
              "      <td>0.2</td>\n",
              "    </tr>\n",
              "    <tr>\n",
              "      <th>5</th>\n",
              "      <td>5.4</td>\n",
              "      <td>3.9</td>\n",
              "      <td>1.7</td>\n",
              "      <td>0.4</td>\n",
              "    </tr>\n",
              "    <tr>\n",
              "      <th>6</th>\n",
              "      <td>4.6</td>\n",
              "      <td>3.4</td>\n",
              "      <td>1.4</td>\n",
              "      <td>0.3</td>\n",
              "    </tr>\n",
              "    <tr>\n",
              "      <th>7</th>\n",
              "      <td>5.0</td>\n",
              "      <td>3.4</td>\n",
              "      <td>1.5</td>\n",
              "      <td>0.2</td>\n",
              "    </tr>\n",
              "    <tr>\n",
              "      <th>8</th>\n",
              "      <td>4.4</td>\n",
              "      <td>2.9</td>\n",
              "      <td>1.4</td>\n",
              "      <td>0.2</td>\n",
              "    </tr>\n",
              "    <tr>\n",
              "      <th>9</th>\n",
              "      <td>4.9</td>\n",
              "      <td>3.1</td>\n",
              "      <td>1.5</td>\n",
              "      <td>0.1</td>\n",
              "    </tr>\n",
              "    <tr>\n",
              "      <th>10</th>\n",
              "      <td>5.4</td>\n",
              "      <td>3.7</td>\n",
              "      <td>1.5</td>\n",
              "      <td>0.2</td>\n",
              "    </tr>\n",
              "    <tr>\n",
              "      <th>11</th>\n",
              "      <td>4.8</td>\n",
              "      <td>3.4</td>\n",
              "      <td>1.6</td>\n",
              "      <td>0.2</td>\n",
              "    </tr>\n",
              "    <tr>\n",
              "      <th>12</th>\n",
              "      <td>4.8</td>\n",
              "      <td>3.0</td>\n",
              "      <td>1.4</td>\n",
              "      <td>0.1</td>\n",
              "    </tr>\n",
              "    <tr>\n",
              "      <th>13</th>\n",
              "      <td>4.3</td>\n",
              "      <td>3.0</td>\n",
              "      <td>1.1</td>\n",
              "      <td>0.1</td>\n",
              "    </tr>\n",
              "    <tr>\n",
              "      <th>14</th>\n",
              "      <td>5.8</td>\n",
              "      <td>4.0</td>\n",
              "      <td>1.2</td>\n",
              "      <td>0.2</td>\n",
              "    </tr>\n",
              "  </tbody>\n",
              "</table>\n",
              "</div>"
            ],
            "text/plain": [
              "      0    1    2    3\n",
              "0   5.1  3.5  1.4  0.2\n",
              "1   4.9  3.0  1.4  0.2\n",
              "2   4.7  3.2  1.3  0.2\n",
              "3   4.6  3.1  1.5  0.2\n",
              "4   5.0  3.6  1.4  0.2\n",
              "5   5.4  3.9  1.7  0.4\n",
              "6   4.6  3.4  1.4  0.3\n",
              "7   5.0  3.4  1.5  0.2\n",
              "8   4.4  2.9  1.4  0.2\n",
              "9   4.9  3.1  1.5  0.1\n",
              "10  5.4  3.7  1.5  0.2\n",
              "11  4.8  3.4  1.6  0.2\n",
              "12  4.8  3.0  1.4  0.1\n",
              "13  4.3  3.0  1.1  0.1\n",
              "14  5.8  4.0  1.2  0.2"
            ]
          },
          "execution_count": 35,
          "metadata": {},
          "output_type": "execute_result"
        }
      ],
      "source": [
        "# Output the first 15 rows of the data\n",
        "df = pd.DataFrame(iris.data)\n",
        "df.head(15)"
      ]
    },
    {
      "cell_type": "code",
      "execution_count": null,
      "metadata": {
        "id": "wn6f948qq5Tk",
        "outputId": "ec586120-4df9-4990-f0f8-244cb507ead9"
      },
      "outputs": [
        {
          "data": {
            "text/html": [
              "<div>\n",
              "<style scoped>\n",
              "    .dataframe tbody tr th:only-of-type {\n",
              "        vertical-align: middle;\n",
              "    }\n",
              "\n",
              "    .dataframe tbody tr th {\n",
              "        vertical-align: top;\n",
              "    }\n",
              "\n",
              "    .dataframe thead th {\n",
              "        text-align: right;\n",
              "    }\n",
              "</style>\n",
              "<table border=\"1\" class=\"dataframe\">\n",
              "  <thead>\n",
              "    <tr style=\"text-align: right;\">\n",
              "      <th></th>\n",
              "      <th>sepal length (cm)</th>\n",
              "      <th>sepal width (cm)</th>\n",
              "      <th>petal length (cm)</th>\n",
              "      <th>petal width (cm)</th>\n",
              "    </tr>\n",
              "  </thead>\n",
              "  <tbody>\n",
              "    <tr>\n",
              "      <th>0</th>\n",
              "      <td>5.1</td>\n",
              "      <td>3.5</td>\n",
              "      <td>1.4</td>\n",
              "      <td>0.2</td>\n",
              "    </tr>\n",
              "    <tr>\n",
              "      <th>1</th>\n",
              "      <td>4.9</td>\n",
              "      <td>3.0</td>\n",
              "      <td>1.4</td>\n",
              "      <td>0.2</td>\n",
              "    </tr>\n",
              "    <tr>\n",
              "      <th>2</th>\n",
              "      <td>4.7</td>\n",
              "      <td>3.2</td>\n",
              "      <td>1.3</td>\n",
              "      <td>0.2</td>\n",
              "    </tr>\n",
              "    <tr>\n",
              "      <th>3</th>\n",
              "      <td>4.6</td>\n",
              "      <td>3.1</td>\n",
              "      <td>1.5</td>\n",
              "      <td>0.2</td>\n",
              "    </tr>\n",
              "    <tr>\n",
              "      <th>4</th>\n",
              "      <td>5.0</td>\n",
              "      <td>3.6</td>\n",
              "      <td>1.4</td>\n",
              "      <td>0.2</td>\n",
              "    </tr>\n",
              "  </tbody>\n",
              "</table>\n",
              "</div>"
            ],
            "text/plain": [
              "   sepal length (cm)  sepal width (cm)  petal length (cm)  petal width (cm)\n",
              "0                5.1               3.5                1.4               0.2\n",
              "1                4.9               3.0                1.4               0.2\n",
              "2                4.7               3.2                1.3               0.2\n",
              "3                4.6               3.1                1.5               0.2\n",
              "4                5.0               3.6                1.4               0.2"
            ]
          },
          "execution_count": 36,
          "metadata": {},
          "output_type": "execute_result"
        }
      ],
      "source": [
        "df.columns = iris.feature_names\n",
        "df.head()"
      ]
    },
    {
      "cell_type": "code",
      "execution_count": null,
      "metadata": {
        "id": "T2YKfkLOq5Tl",
        "outputId": "dbc44ba3-3088-4bdb-b72d-03690be799b2"
      },
      "outputs": [
        {
          "data": {
            "text/plain": [
              "array(['setosa', 'versicolor', 'virginica'], dtype='<U10')"
            ]
          },
          "execution_count": 37,
          "metadata": {},
          "output_type": "execute_result"
        }
      ],
      "source": [
        "iris.target_names"
      ]
    },
    {
      "cell_type": "code",
      "execution_count": null,
      "metadata": {
        "id": "xpYL2fq-q5Tl",
        "outputId": "bfdbaee8-2a84-4a34-970e-2d82dc224e86"
      },
      "outputs": [
        {
          "data": {
            "text/plain": [
              "['sepal length (cm)',\n",
              " 'sepal width (cm)',\n",
              " 'petal length (cm)',\n",
              " 'petal width (cm)']"
            ]
          },
          "execution_count": 38,
          "metadata": {},
          "output_type": "execute_result"
        }
      ],
      "source": [
        "iris.feature_names"
      ]
    },
    {
      "cell_type": "code",
      "execution_count": null,
      "metadata": {
        "id": "YzNk108sq5Tl",
        "outputId": "f78ddcfd-0066-4920-c1db-2b44936fdc1f"
      },
      "outputs": [
        {
          "data": {
            "text/plain": [
              "dict_keys(['data', 'target', 'frame', 'target_names', 'DESCR', 'feature_names', 'filename'])"
            ]
          },
          "execution_count": 39,
          "metadata": {},
          "output_type": "execute_result"
        }
      ],
      "source": [
        "iris.keys()"
      ]
    },
    {
      "cell_type": "code",
      "execution_count": null,
      "metadata": {
        "id": "tKxMzhMcq5Tm",
        "outputId": "295c49a2-c759-4f83-de77-a2a72a1b0cc7"
      },
      "outputs": [
        {
          "name": "stdout",
          "output_type": "stream",
          "text": [
            "<class 'pandas.core.frame.DataFrame'>\n",
            "RangeIndex: 150 entries, 0 to 149\n",
            "Data columns (total 4 columns):\n",
            " #   Column             Non-Null Count  Dtype  \n",
            "---  ------             --------------  -----  \n",
            " 0   sepal length (cm)  150 non-null    float64\n",
            " 1   sepal width (cm)   150 non-null    float64\n",
            " 2   petal length (cm)  150 non-null    float64\n",
            " 3   petal width (cm)   150 non-null    float64\n",
            "dtypes: float64(4)\n",
            "memory usage: 4.8 KB\n"
          ]
        }
      ],
      "source": [
        "# Display a summary of the table information (number of datapoints, etc.)\n",
        "df.info()"
      ]
    },
    {
      "cell_type": "code",
      "execution_count": null,
      "metadata": {
        "id": "92fqseT3q5Tm",
        "outputId": "a22ea6c0-a70b-4ed5-835e-4dd22c2d82aa"
      },
      "outputs": [
        {
          "data": {
            "text/html": [
              "<div>\n",
              "<style scoped>\n",
              "    .dataframe tbody tr th:only-of-type {\n",
              "        vertical-align: middle;\n",
              "    }\n",
              "\n",
              "    .dataframe tbody tr th {\n",
              "        vertical-align: top;\n",
              "    }\n",
              "\n",
              "    .dataframe thead th {\n",
              "        text-align: right;\n",
              "    }\n",
              "</style>\n",
              "<table border=\"1\" class=\"dataframe\">\n",
              "  <thead>\n",
              "    <tr style=\"text-align: right;\">\n",
              "      <th></th>\n",
              "      <th>sepal length (cm)</th>\n",
              "      <th>sepal width (cm)</th>\n",
              "      <th>petal length (cm)</th>\n",
              "      <th>petal width (cm)</th>\n",
              "    </tr>\n",
              "  </thead>\n",
              "  <tbody>\n",
              "    <tr>\n",
              "      <th>count</th>\n",
              "      <td>150.000000</td>\n",
              "      <td>150.000000</td>\n",
              "      <td>150.000000</td>\n",
              "      <td>150.000000</td>\n",
              "    </tr>\n",
              "    <tr>\n",
              "      <th>mean</th>\n",
              "      <td>5.843333</td>\n",
              "      <td>3.057333</td>\n",
              "      <td>3.758000</td>\n",
              "      <td>1.199333</td>\n",
              "    </tr>\n",
              "    <tr>\n",
              "      <th>std</th>\n",
              "      <td>0.828066</td>\n",
              "      <td>0.435866</td>\n",
              "      <td>1.765298</td>\n",
              "      <td>0.762238</td>\n",
              "    </tr>\n",
              "    <tr>\n",
              "      <th>min</th>\n",
              "      <td>4.300000</td>\n",
              "      <td>2.000000</td>\n",
              "      <td>1.000000</td>\n",
              "      <td>0.100000</td>\n",
              "    </tr>\n",
              "    <tr>\n",
              "      <th>25%</th>\n",
              "      <td>5.100000</td>\n",
              "      <td>2.800000</td>\n",
              "      <td>1.600000</td>\n",
              "      <td>0.300000</td>\n",
              "    </tr>\n",
              "    <tr>\n",
              "      <th>50%</th>\n",
              "      <td>5.800000</td>\n",
              "      <td>3.000000</td>\n",
              "      <td>4.350000</td>\n",
              "      <td>1.300000</td>\n",
              "    </tr>\n",
              "    <tr>\n",
              "      <th>75%</th>\n",
              "      <td>6.400000</td>\n",
              "      <td>3.300000</td>\n",
              "      <td>5.100000</td>\n",
              "      <td>1.800000</td>\n",
              "    </tr>\n",
              "    <tr>\n",
              "      <th>max</th>\n",
              "      <td>7.900000</td>\n",
              "      <td>4.400000</td>\n",
              "      <td>6.900000</td>\n",
              "      <td>2.500000</td>\n",
              "    </tr>\n",
              "  </tbody>\n",
              "</table>\n",
              "</div>"
            ],
            "text/plain": [
              "       sepal length (cm)  sepal width (cm)  petal length (cm)  \\\n",
              "count         150.000000        150.000000         150.000000   \n",
              "mean            5.843333          3.057333           3.758000   \n",
              "std             0.828066          0.435866           1.765298   \n",
              "min             4.300000          2.000000           1.000000   \n",
              "25%             5.100000          2.800000           1.600000   \n",
              "50%             5.800000          3.000000           4.350000   \n",
              "75%             6.400000          3.300000           5.100000   \n",
              "max             7.900000          4.400000           6.900000   \n",
              "\n",
              "       petal width (cm)  \n",
              "count        150.000000  \n",
              "mean           1.199333  \n",
              "std            0.762238  \n",
              "min            0.100000  \n",
              "25%            0.300000  \n",
              "50%            1.300000  \n",
              "75%            1.800000  \n",
              "max            2.500000  "
            ]
          },
          "execution_count": 41,
          "metadata": {},
          "output_type": "execute_result"
        }
      ],
      "source": [
        "df.describe()"
      ]
    },
    {
      "cell_type": "markdown",
      "metadata": {
        "id": "zchs1fuWq5Tm"
      },
      "source": [
        "## About the dataset\n",
        "\n",
        "Explain what the data is in your own words. What are your features and labels? What is the mapping of your labels to the actual classes?\n",
        "\n"
      ]
    },
    {
      "cell_type": "markdown",
      "metadata": {
        "id": "mGWKZkZSq5Tm"
      },
      "source": [
        "#### The data shows that there are no null values. 150 observations ranging from 0-49. The features are the sepal's length and width and petal's length and width. The labels are setosa[0], versicolor[1], virginica[2]."
      ]
    },
    {
      "cell_type": "markdown",
      "metadata": {
        "id": "3CWzG0Hwq5Tn"
      },
      "source": [
        "# Part 2: Split the dataset into train and test\n"
      ]
    },
    {
      "cell_type": "code",
      "execution_count": null,
      "metadata": {
        "id": "15_QQfP7q5Tn",
        "outputId": "18b4cbb4-08f3-4aeb-c71a-87f25d06479f"
      },
      "outputs": [
        {
          "data": {
            "text/plain": [
              "(150, 4)"
            ]
          },
          "execution_count": 42,
          "metadata": {},
          "output_type": "execute_result"
        }
      ],
      "source": [
        "# Take the dataset and split it into our features (X) and label (y)\n",
        "x = iris.data\n",
        "y = iris.target\n",
        "\n",
        "x.shape\n"
      ]
    },
    {
      "cell_type": "code",
      "execution_count": null,
      "metadata": {
        "id": "x8M-hM8nq5Tn",
        "outputId": "dc1ea169-fe0a-4afb-9c5c-ff32e0ea4b85"
      },
      "outputs": [
        {
          "data": {
            "text/plain": [
              "(150,)"
            ]
          },
          "execution_count": 43,
          "metadata": {},
          "output_type": "execute_result"
        }
      ],
      "source": [
        "y.shape"
      ]
    },
    {
      "cell_type": "code",
      "execution_count": null,
      "metadata": {
        "id": "guAomPmbq5Tn"
      },
      "outputs": [],
      "source": [
        "# Use sklearn to split the features and labels into a training/test set. (90% train, 10% test)"
      ]
    },
    {
      "cell_type": "code",
      "execution_count": null,
      "metadata": {
        "id": "aEXjOlZQq5To"
      },
      "outputs": [],
      "source": [
        "x_train, x_test, y_train, y_test = train_test_split(x, y, test_size = .1, random_state = 43)"
      ]
    },
    {
      "cell_type": "code",
      "execution_count": null,
      "metadata": {
        "id": "_38C_5_eq5To",
        "outputId": "be9e47aa-02d0-4b5e-9bbb-24f75c0d40e2"
      },
      "outputs": [
        {
          "data": {
            "text/plain": [
              "((135, 4), (15, 4), (135,), (15,))"
            ]
          },
          "execution_count": 46,
          "metadata": {},
          "output_type": "execute_result"
        }
      ],
      "source": [
        "x_train.shape , x_test.shape , y_train.shape , y_test.shape"
      ]
    },
    {
      "cell_type": "markdown",
      "metadata": {
        "id": "Re_EebV5q5To"
      },
      "source": [
        "# Part 3: Logistic Regression\n"
      ]
    },
    {
      "cell_type": "code",
      "execution_count": null,
      "metadata": {
        "id": "p9_wzNCLq5Tp",
        "outputId": "b0b7acc8-d8d8-447a-e990-572b39ca42e9"
      },
      "outputs": [
        {
          "data": {
            "text/plain": [
              "LogisticRegression()"
            ]
          },
          "execution_count": 47,
          "metadata": {},
          "output_type": "execute_result"
        }
      ],
      "source": [
        "# i. Use sklearn to train a LogisticRegression model on the training set\n",
        "model = LogisticRegression()\n",
        "model.fit(x_train, y_train)\n"
      ]
    },
    {
      "cell_type": "code",
      "execution_count": null,
      "metadata": {
        "id": "B0EnP2oKq5Tp",
        "outputId": "40c821c7-e045-412b-f392-1e179f22ba15"
      },
      "outputs": [
        {
          "data": {
            "text/plain": [
              "array([0, 0, 2, 1, 2, 0, 2, 1, 1, 1, 0, 1, 2, 0, 1])"
            ]
          },
          "execution_count": 48,
          "metadata": {},
          "output_type": "execute_result"
        }
      ],
      "source": [
        "# ii. For a sample datapoint, predict the probabilities for each possible class\n",
        "y_pred = model.predict(x_test)\n",
        "y_pred"
      ]
    },
    {
      "cell_type": "code",
      "execution_count": null,
      "metadata": {
        "id": "jRVxm4OPq5Tp",
        "outputId": "2a398ce6-d7cc-4eb5-875b-2bafb7de2f60"
      },
      "outputs": [
        {
          "data": {
            "text/plain": [
              "1.0"
            ]
          },
          "execution_count": 17,
          "metadata": {},
          "output_type": "execute_result"
        }
      ],
      "source": [
        "# iii. Report on the score for Logistic regression model, what does the score measure?\n",
        "model.score(x_test, y_test)"
      ]
    },
    {
      "cell_type": "markdown",
      "metadata": {
        "id": "U0jBye5lq5Tq"
      },
      "source": [
        "#### A score of 1.0 shows a perfect model. It measures the accuracy of the the model. Also shows that all of the data is correctly classified.\n"
      ]
    },
    {
      "cell_type": "code",
      "execution_count": null,
      "metadata": {
        "id": "pkV5JOfwq5Tq",
        "outputId": "f3655cb3-8aab-44b0-813b-44499c52d7ad"
      },
      "outputs": [
        {
          "data": {
            "text/plain": [
              "array([[-0.44068746,  0.91539817, -2.44583083, -1.0523871 ],\n",
              "       [ 0.47785526, -0.26873746, -0.21782263, -0.86830965],\n",
              "       [-0.0371678 , -0.64666071,  2.66365346,  1.92069675]])"
            ]
          },
          "execution_count": 49,
          "metadata": {},
          "output_type": "execute_result"
        }
      ],
      "source": [
        "# iv. Extract the coefficents and intercepts for the boundary line(s)\n",
        "model.coef_ "
      ]
    },
    {
      "cell_type": "code",
      "execution_count": null,
      "metadata": {
        "id": "dYbn6Jn1q5Tq",
        "outputId": "88fc0965-fae2-42cd-ee05-2909dd1471a7"
      },
      "outputs": [
        {
          "data": {
            "text/plain": [
              "array([  9.88651812,   2.28780948, -12.1743276 ])"
            ]
          },
          "execution_count": 50,
          "metadata": {},
          "output_type": "execute_result"
        }
      ],
      "source": [
        "model.intercept_"
      ]
    },
    {
      "cell_type": "markdown",
      "metadata": {
        "id": "4OogfHHnq5Tq"
      },
      "source": [
        "# Part 4: Support Vector Machine\n"
      ]
    },
    {
      "cell_type": "code",
      "execution_count": null,
      "metadata": {
        "id": "Ix7u1fgMq5Tr",
        "outputId": "ce9d87f3-4438-4ea1-ddd2-e2f71920a1f7"
      },
      "outputs": [
        {
          "data": {
            "text/plain": [
              "SVC(probability=True)"
            ]
          },
          "execution_count": 51,
          "metadata": {},
          "output_type": "execute_result"
        }
      ],
      "source": [
        "# i. Use sklearn to train a Support Vector Classifier on the training set\n",
        "classifier = svm.SVC(probability = True)\n",
        "classifier.fit(x_train, y_train)"
      ]
    },
    {
      "cell_type": "code",
      "execution_count": null,
      "metadata": {
        "id": "iHphPrGsq5Tr",
        "outputId": "52415127-f14b-48bc-e91b-83cf1e310246"
      },
      "outputs": [
        {
          "data": {
            "text/plain": [
              "array([[0.95765532, 0.03113267, 0.01121202],\n",
              "       [0.97414513, 0.01698444, 0.00887043],\n",
              "       [0.00973789, 0.50669165, 0.48357046],\n",
              "       [0.00838264, 0.98822979, 0.00338758],\n",
              "       [0.01159366, 0.00108964, 0.98731671],\n",
              "       [0.96794503, 0.02229806, 0.00975691],\n",
              "       [0.01051947, 0.09434651, 0.89513402],\n",
              "       [0.00808731, 0.9875812 , 0.0043315 ],\n",
              "       [0.01490199, 0.98130603, 0.00379198],\n",
              "       [0.0565148 , 0.93088714, 0.01259806],\n",
              "       [0.97349019, 0.01692056, 0.00958925],\n",
              "       [0.0069433 , 0.8179992 , 0.17505749],\n",
              "       [0.01275244, 0.00125821, 0.98598935],\n",
              "       [0.96615366, 0.02353237, 0.01031396],\n",
              "       [0.00543648, 0.93132564, 0.06323788]])"
            ]
          },
          "execution_count": 52,
          "metadata": {},
          "output_type": "execute_result"
        }
      ],
      "source": [
        "# ii. For a sample datapoint, predict the probabilities for each possible class\n",
        "\n",
        "#y_predict = classifier.predict(x_test)\n",
        "#y_predict\n",
        "\n",
        "y_predict = classifier.predict_proba(x_test)\n",
        "y_predict"
      ]
    },
    {
      "cell_type": "code",
      "execution_count": null,
      "metadata": {
        "id": "nwgaGLbOq5Tr",
        "outputId": "567dc67b-357c-47b9-c525-fed7ee965414"
      },
      "outputs": [
        {
          "data": {
            "text/plain": [
              "0.9333333333333333"
            ]
          },
          "execution_count": 53,
          "metadata": {},
          "output_type": "execute_result"
        }
      ],
      "source": [
        "# iii. Report on the score for the SVM, what does the score measure?\n",
        "classifier.score(x_test, y_test)"
      ]
    },
    {
      "cell_type": "markdown",
      "metadata": {
        "id": "etjcFeirq5Tr"
      },
      "source": [
        "#### My SVM model has a high score of 93% this means that only 7% of the data is missclassified using SVM."
      ]
    },
    {
      "cell_type": "markdown",
      "metadata": {
        "id": "OpG4eodyq5Tr"
      },
      "source": [
        "# Part 5: Neural Network\n"
      ]
    },
    {
      "cell_type": "code",
      "execution_count": null,
      "metadata": {
        "id": "c2sZRObsq5Tr",
        "outputId": "8900daf7-e13e-4fd0-e26e-b9a4aa2ba8d3"
      },
      "outputs": [
        {
          "data": {
            "text/plain": [
              "MLPClassifier(max_iter=500)"
            ]
          },
          "execution_count": 54,
          "metadata": {},
          "output_type": "execute_result"
        }
      ],
      "source": [
        "# i. Use sklearn to train a Neural Network (MLP Classifier) on the training set\n",
        "MLP = MLPClassifier(max_iter = 500, activation = 'relu')\n",
        "MLP"
      ]
    },
    {
      "cell_type": "code",
      "execution_count": null,
      "metadata": {
        "id": "NXJtDpw8q5Ts",
        "outputId": "eb0c4b63-6f54-45c9-9d61-56aecf6dbd6a"
      },
      "outputs": [
        {
          "name": "stderr",
          "output_type": "stream",
          "text": [
            "/Users/idatouray/opt/anaconda3/lib/python3.8/site-packages/sklearn/neural_network/_multilayer_perceptron.py:582: ConvergenceWarning: Stochastic Optimizer: Maximum iterations (500) reached and the optimization hasn't converged yet.\n",
            "  warnings.warn(\n"
          ]
        },
        {
          "data": {
            "text/plain": [
              "MLPClassifier(max_iter=500)"
            ]
          },
          "execution_count": 55,
          "metadata": {},
          "output_type": "execute_result"
        }
      ],
      "source": [
        "MLP.fit(x_train, y_train)"
      ]
    },
    {
      "cell_type": "code",
      "execution_count": null,
      "metadata": {
        "id": "-abxtIjtq5Ts",
        "outputId": "b5b792df-b746-4c01-ee96-289a6842f6aa"
      },
      "outputs": [
        {
          "data": {
            "text/plain": [
              "array([0, 0, 2, 1, 2, 0, 2, 1, 1, 1, 0, 1, 2, 0, 1])"
            ]
          },
          "execution_count": 56,
          "metadata": {},
          "output_type": "execute_result"
        }
      ],
      "source": [
        "# ii. For a sample datapoint, predict the probabilities for each possible class\n",
        "predictions = MLP.predict(x_test)\n",
        "predictions"
      ]
    },
    {
      "cell_type": "code",
      "execution_count": null,
      "metadata": {
        "id": "DloiKLV8q5Ts",
        "outputId": "3b0e29ff-e535-45fc-9d5e-5f282711eb2d"
      },
      "outputs": [
        {
          "name": "stdout",
          "output_type": "stream",
          "text": [
            "              precision    recall  f1-score   support\n",
            "\n",
            "           0       1.00      1.00      1.00         5\n",
            "           1       1.00      1.00      1.00         6\n",
            "           2       1.00      1.00      1.00         4\n",
            "\n",
            "    accuracy                           1.00        15\n",
            "   macro avg       1.00      1.00      1.00        15\n",
            "weighted avg       1.00      1.00      1.00        15\n",
            "\n"
          ]
        }
      ],
      "source": [
        "print(classification_report (y_test, predictions))"
      ]
    },
    {
      "cell_type": "code",
      "execution_count": null,
      "metadata": {
        "id": "jnw4OEmoq5Ts",
        "outputId": "714b848f-1ec2-4d83-a70a-2480450a2347"
      },
      "outputs": [
        {
          "name": "stdout",
          "output_type": "stream",
          "text": [
            "[[5 0 0]\n",
            " [0 6 0]\n",
            " [0 0 4]]\n"
          ]
        }
      ],
      "source": [
        "# iii. Report on the score for the Neural Network, what does the score measure?\n",
        "print(confusion_matrix(y_test, predictions))"
      ]
    },
    {
      "cell_type": "code",
      "execution_count": null,
      "metadata": {
        "id": "jxxvVCcEq5Ts",
        "outputId": "6e1a5dd9-c26e-4229-978b-ddeaead4918f"
      },
      "outputs": [
        {
          "data": {
            "text/plain": [
              "1.0"
            ]
          },
          "execution_count": 59,
          "metadata": {},
          "output_type": "execute_result"
        }
      ],
      "source": [
        "\n",
        "MLP.score(x_test, y_test)"
      ]
    },
    {
      "cell_type": "markdown",
      "metadata": {
        "id": "Pg2zbL_5q5Tt"
      },
      "source": [
        "#### The score shows a perfect matrix and there are no misclassified data."
      ]
    },
    {
      "cell_type": "code",
      "execution_count": null,
      "metadata": {
        "id": "wlp-LvPlq5Tt"
      },
      "outputs": [],
      "source": [
        "# iv: Experiment with different options for the neural network, report on your best configuration (the highest score I was able to achieve was 0.8666)"
      ]
    },
    {
      "cell_type": "markdown",
      "metadata": {
        "id": "Snyk9eAcq5Tt"
      },
      "source": [
        "#### highest score was 1.0"
      ]
    },
    {
      "cell_type": "markdown",
      "metadata": {
        "id": "j_lE-xLjq5Tt"
      },
      "source": [
        "# Part 6: K-Nearest Neighbors"
      ]
    },
    {
      "cell_type": "code",
      "execution_count": null,
      "metadata": {
        "id": "Fn43_SDSq5Tt",
        "outputId": "98a42ce1-9e03-4ed0-ca0c-ed78972cbdc4"
      },
      "outputs": [
        {
          "data": {
            "text/plain": [
              "KNeighborsClassifier()"
            ]
          },
          "execution_count": 60,
          "metadata": {},
          "output_type": "execute_result"
        }
      ],
      "source": [
        "# i. Use sklearn to 'train' a k-Neighbors Classifier\n",
        "# Note: KNN is a nonparametric model and technically doesn't require training\n",
        "# fit will essentially load the data into the model see link below for more information\n",
        "# https://stats.stackexchange.com/questions/349842/why-do-we-need-to-fit-a-k-nearest-neighbors-classifier\n",
        "\n",
        "neigh = KNeighborsClassifier(n_neighbors = 5)\n",
        "neigh.fit(x_train, y_train)"
      ]
    },
    {
      "cell_type": "code",
      "execution_count": null,
      "metadata": {
        "id": "W5Iu1UYoq5Tt",
        "outputId": "19920e4d-3411-48ff-b1ee-9fe190564ad1"
      },
      "outputs": [
        {
          "data": {
            "text/plain": [
              "array([0, 0, 2, 1, 2, 0, 2, 1, 1, 1, 0, 1, 2, 0, 1])"
            ]
          },
          "execution_count": 61,
          "metadata": {},
          "output_type": "execute_result"
        }
      ],
      "source": [
        "# ii. For a sample datapoint, predict the probabilities for each possible class\n",
        "\n",
        "yp = neigh.predict(x_test)\n",
        "yp"
      ]
    },
    {
      "cell_type": "code",
      "execution_count": null,
      "metadata": {
        "id": "CgAOueQ4q5Tt",
        "outputId": "38c52e47-3da2-4d44-a493-b561ddec69d3"
      },
      "outputs": [
        {
          "name": "stdout",
          "output_type": "stream",
          "text": [
            "[[5 0 0]\n",
            " [0 6 0]\n",
            " [0 0 4]]\n"
          ]
        }
      ],
      "source": [
        "# iii. Report on the score for kNN, what does the score measure?\n",
        "print(confusion_matrix(y_test, yp))"
      ]
    },
    {
      "cell_type": "markdown",
      "metadata": {
        "id": "MpCWCmEpq5Tu"
      },
      "source": [
        "#### The score using a confusion matrix shows no misclassified data. My score using confusion matrix shows a perfect diagonal matrix."
      ]
    },
    {
      "cell_type": "markdown",
      "metadata": {
        "id": "_EvyHihNq5Tu"
      },
      "source": [
        "# Part 7: Conclusions and takeaways\n"
      ]
    },
    {
      "cell_type": "markdown",
      "metadata": {
        "id": "zn4Vcoj8q5Tu"
      },
      "source": [
        "In your own words describe the results of the notebook. Which model(s) performed the best on the dataset? Why do you think that is? Did anything surprise you about the exercise?"
      ]
    },
    {
      "cell_type": "markdown",
      "metadata": {
        "id": "PeGoVxR8q5Tu"
      },
      "source": [
        "All of my models have a perfect score except SVM. The iris dataset is small, and that data were already well classified. No much surpeises, I sort of expected my models to have different scores with not much differences between them."
      ]
    },
    {
      "cell_type": "code",
      "execution_count": null,
      "metadata": {
        "id": "lemSykciq5Tu"
      },
      "outputs": [],
      "source": [
        ""
      ]
    }
  ],
  "metadata": {
    "kernelspec": {
      "display_name": "Python 3",
      "language": "python",
      "name": "python3"
    },
    "language_info": {
      "codemirror_mode": {
        "name": "ipython",
        "version": 3
      },
      "file_extension": ".py",
      "mimetype": "text/x-python",
      "name": "python",
      "nbconvert_exporter": "python",
      "pygments_lexer": "ipython3",
      "version": "3.8.3"
    },
    "colab": {
      "name": "Assignment 4 - Judging Flowers.ipynb",
      "provenance": []
    }
  },
  "nbformat": 4,
  "nbformat_minor": 0
}