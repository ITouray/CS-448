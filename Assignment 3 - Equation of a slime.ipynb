{
  "cells": [
    {
      "cell_type": "markdown",
      "metadata": {
        "id": "view-in-github",
        "colab_type": "text"
      },
      "source": [
        "<a href=\"https://colab.research.google.com/github/ITouray/CS-448/blob/main/Assignment%203%20-%20Equation%20of%20a%20slime.ipynb\" target=\"_parent\"><img src=\"https://colab.research.google.com/assets/colab-badge.svg\" alt=\"Open In Colab\"/></a>"
      ]
    },
    {
      "cell_type": "markdown",
      "source": [
        "[![Open In Colab](https://colab.research.google.com/assets/colab-badge.svg)](https://github.com/ITouray/CS-448/blob/main/Assignment%203%20-%20Equation%20of%20a%20slime.ipynb)"
      ],
      "metadata": {
        "id": "sD-wZmoqpil4"
      }
    },
    {
      "cell_type": "code",
      "execution_count": null,
      "metadata": {
        "id": "ygBOJYdXpfdu"
      },
      "outputs": [],
      "source": [
        "# Imports section\n",
        "import pandas as pd\n",
        "import numpy as np\n",
        "from sklearn.model_selection import train_test_split\n",
        "from sklearn import datasets\n",
        "from sklearn import svm\n",
        "from sklearn.linear_model import LinearRegression\n",
        "import matplotlib.pyplot as plt\n",
        "from sklearn import metrics\n",
        "from sklearn.metrics import r2_score\n",
        "from sklearn.model_selection import cross_val_score\n",
        "from numpy import asarray\n",
        "from sklearn.preprocessing import PolynomialFeatures\n",
        "from sklearn.model_selection import ShuffleSplit\n",
        "from IPython.display import display, Math, Latex"
      ]
    },
    {
      "cell_type": "markdown",
      "metadata": {
        "id": "-bsujfxtpfdy"
      },
      "source": [
        "# Part 1. Loading the dataset"
      ]
    },
    {
      "cell_type": "code",
      "execution_count": null,
      "metadata": {
        "id": "IvkrWXcmpfd0"
      },
      "outputs": [],
      "source": [
        "# Using pandas load the dataset (load remotely, not locally)\n",
        "df = pd.read_csv('https://raw.githubusercontent.com/profmcnich/example_notebook/main/science_data_large.csv')\n"
      ]
    },
    {
      "cell_type": "code",
      "execution_count": null,
      "metadata": {
        "id": "MQiOoSUopfd0",
        "outputId": "cbb4ce70-69d1-48b0-9318-418ed54137b5"
      },
      "outputs": [
        {
          "data": {
            "text/html": [
              "<div>\n",
              "<style scoped>\n",
              "    .dataframe tbody tr th:only-of-type {\n",
              "        vertical-align: middle;\n",
              "    }\n",
              "\n",
              "    .dataframe tbody tr th {\n",
              "        vertical-align: top;\n",
              "    }\n",
              "\n",
              "    .dataframe thead th {\n",
              "        text-align: right;\n",
              "    }\n",
              "</style>\n",
              "<table border=\"1\" class=\"dataframe\">\n",
              "  <thead>\n",
              "    <tr style=\"text-align: right;\">\n",
              "      <th></th>\n",
              "      <th>Temperature °C</th>\n",
              "      <th>Mols KCL</th>\n",
              "      <th>Size nm^3</th>\n",
              "    </tr>\n",
              "  </thead>\n",
              "  <tbody>\n",
              "    <tr>\n",
              "      <th>0</th>\n",
              "      <td>469</td>\n",
              "      <td>647</td>\n",
              "      <td>6.244743e+05</td>\n",
              "    </tr>\n",
              "    <tr>\n",
              "      <th>1</th>\n",
              "      <td>403</td>\n",
              "      <td>694</td>\n",
              "      <td>5.779610e+05</td>\n",
              "    </tr>\n",
              "    <tr>\n",
              "      <th>2</th>\n",
              "      <td>302</td>\n",
              "      <td>975</td>\n",
              "      <td>6.196847e+05</td>\n",
              "    </tr>\n",
              "    <tr>\n",
              "      <th>3</th>\n",
              "      <td>779</td>\n",
              "      <td>916</td>\n",
              "      <td>1.460449e+06</td>\n",
              "    </tr>\n",
              "    <tr>\n",
              "      <th>4</th>\n",
              "      <td>901</td>\n",
              "      <td>18</td>\n",
              "      <td>4.325726e+04</td>\n",
              "    </tr>\n",
              "    <tr>\n",
              "      <th>5</th>\n",
              "      <td>545</td>\n",
              "      <td>637</td>\n",
              "      <td>7.124634e+05</td>\n",
              "    </tr>\n",
              "    <tr>\n",
              "      <th>6</th>\n",
              "      <td>660</td>\n",
              "      <td>519</td>\n",
              "      <td>7.006960e+05</td>\n",
              "    </tr>\n",
              "    <tr>\n",
              "      <th>7</th>\n",
              "      <td>143</td>\n",
              "      <td>869</td>\n",
              "      <td>2.718260e+05</td>\n",
              "    </tr>\n",
              "    <tr>\n",
              "      <th>8</th>\n",
              "      <td>89</td>\n",
              "      <td>461</td>\n",
              "      <td>8.919803e+04</td>\n",
              "    </tr>\n",
              "    <tr>\n",
              "      <th>9</th>\n",
              "      <td>294</td>\n",
              "      <td>776</td>\n",
              "      <td>4.770210e+05</td>\n",
              "    </tr>\n",
              "    <tr>\n",
              "      <th>10</th>\n",
              "      <td>991</td>\n",
              "      <td>117</td>\n",
              "      <td>2.441771e+05</td>\n",
              "    </tr>\n",
              "    <tr>\n",
              "      <th>11</th>\n",
              "      <td>307</td>\n",
              "      <td>781</td>\n",
              "      <td>5.006455e+05</td>\n",
              "    </tr>\n",
              "    <tr>\n",
              "      <th>12</th>\n",
              "      <td>206</td>\n",
              "      <td>70</td>\n",
              "      <td>3.145200e+04</td>\n",
              "    </tr>\n",
              "    <tr>\n",
              "      <th>13</th>\n",
              "      <td>437</td>\n",
              "      <td>599</td>\n",
              "      <td>5.390215e+05</td>\n",
              "    </tr>\n",
              "    <tr>\n",
              "      <th>14</th>\n",
              "      <td>566</td>\n",
              "      <td>75</td>\n",
              "      <td>9.185271e+04</td>\n",
              "    </tr>\n",
              "  </tbody>\n",
              "</table>\n",
              "</div>"
            ],
            "text/plain": [
              "    Temperature °C  Mols KCL     Size nm^3\n",
              "0              469       647  6.244743e+05\n",
              "1              403       694  5.779610e+05\n",
              "2              302       975  6.196847e+05\n",
              "3              779       916  1.460449e+06\n",
              "4              901        18  4.325726e+04\n",
              "5              545       637  7.124634e+05\n",
              "6              660       519  7.006960e+05\n",
              "7              143       869  2.718260e+05\n",
              "8               89       461  8.919803e+04\n",
              "9              294       776  4.770210e+05\n",
              "10             991       117  2.441771e+05\n",
              "11             307       781  5.006455e+05\n",
              "12             206        70  3.145200e+04\n",
              "13             437       599  5.390215e+05\n",
              "14             566        75  9.185271e+04"
            ]
          },
          "execution_count": 30,
          "metadata": {},
          "output_type": "execute_result"
        }
      ],
      "source": [
        "# Output the first 15 rows of the data\n",
        "df.head(15)"
      ]
    },
    {
      "cell_type": "code",
      "execution_count": null,
      "metadata": {
        "id": "Zb28_DVwpfd1",
        "outputId": "ac0fb9f4-7f16-4efd-a55e-4b11cc8f0891"
      },
      "outputs": [
        {
          "data": {
            "text/plain": [
              "1000"
            ]
          },
          "execution_count": 31,
          "metadata": {},
          "output_type": "execute_result"
        }
      ],
      "source": [
        "# Display a summary of the table information (number of datapoints, etc.)\n",
        "len(df)"
      ]
    },
    {
      "cell_type": "code",
      "execution_count": null,
      "metadata": {
        "id": "uIYAuXy6pfd2",
        "outputId": "17d87deb-4b7f-4d3a-a8da-6412de3e3710"
      },
      "outputs": [
        {
          "data": {
            "text/html": [
              "<div>\n",
              "<style scoped>\n",
              "    .dataframe tbody tr th:only-of-type {\n",
              "        vertical-align: middle;\n",
              "    }\n",
              "\n",
              "    .dataframe tbody tr th {\n",
              "        vertical-align: top;\n",
              "    }\n",
              "\n",
              "    .dataframe thead th {\n",
              "        text-align: right;\n",
              "    }\n",
              "</style>\n",
              "<table border=\"1\" class=\"dataframe\">\n",
              "  <thead>\n",
              "    <tr style=\"text-align: right;\">\n",
              "      <th></th>\n",
              "      <th>Temperature °C</th>\n",
              "      <th>Mols KCL</th>\n",
              "      <th>Size nm^3</th>\n",
              "    </tr>\n",
              "  </thead>\n",
              "  <tbody>\n",
              "    <tr>\n",
              "      <th>count</th>\n",
              "      <td>1000.000000</td>\n",
              "      <td>1000.000000</td>\n",
              "      <td>1.000000e+03</td>\n",
              "    </tr>\n",
              "    <tr>\n",
              "      <th>mean</th>\n",
              "      <td>500.500000</td>\n",
              "      <td>471.530000</td>\n",
              "      <td>5.086111e+05</td>\n",
              "    </tr>\n",
              "    <tr>\n",
              "      <th>std</th>\n",
              "      <td>288.819436</td>\n",
              "      <td>288.482872</td>\n",
              "      <td>4.474838e+05</td>\n",
              "    </tr>\n",
              "    <tr>\n",
              "      <th>min</th>\n",
              "      <td>1.000000</td>\n",
              "      <td>1.000000</td>\n",
              "      <td>1.611429e+01</td>\n",
              "    </tr>\n",
              "    <tr>\n",
              "      <th>25%</th>\n",
              "      <td>250.750000</td>\n",
              "      <td>226.750000</td>\n",
              "      <td>1.298267e+05</td>\n",
              "    </tr>\n",
              "    <tr>\n",
              "      <th>50%</th>\n",
              "      <td>500.500000</td>\n",
              "      <td>459.500000</td>\n",
              "      <td>3.827182e+05</td>\n",
              "    </tr>\n",
              "    <tr>\n",
              "      <th>75%</th>\n",
              "      <td>750.250000</td>\n",
              "      <td>710.250000</td>\n",
              "      <td>7.603211e+05</td>\n",
              "    </tr>\n",
              "    <tr>\n",
              "      <th>max</th>\n",
              "      <td>1000.000000</td>\n",
              "      <td>1000.000000</td>\n",
              "      <td>1.972127e+06</td>\n",
              "    </tr>\n",
              "  </tbody>\n",
              "</table>\n",
              "</div>"
            ],
            "text/plain": [
              "       Temperature °C     Mols KCL     Size nm^3\n",
              "count     1000.000000  1000.000000  1.000000e+03\n",
              "mean       500.500000   471.530000  5.086111e+05\n",
              "std        288.819436   288.482872  4.474838e+05\n",
              "min          1.000000     1.000000  1.611429e+01\n",
              "25%        250.750000   226.750000  1.298267e+05\n",
              "50%        500.500000   459.500000  3.827182e+05\n",
              "75%        750.250000   710.250000  7.603211e+05\n",
              "max       1000.000000  1000.000000  1.972127e+06"
            ]
          },
          "execution_count": 32,
          "metadata": {},
          "output_type": "execute_result"
        }
      ],
      "source": [
        "df.describe()"
      ]
    },
    {
      "cell_type": "markdown",
      "metadata": {
        "id": "D6rXI-UPpfd2"
      },
      "source": [
        "# Part 2. Splitting the dataset"
      ]
    },
    {
      "cell_type": "code",
      "execution_count": null,
      "metadata": {
        "id": "XOjf3ZDgpfd3"
      },
      "outputs": [],
      "source": [
        "# Take the pandas dataset and split it into our features (X) and label (y)\n",
        "\n",
        "features = [\"Mols KCL\", \"Size nm^3\"]\n",
        "label = [\"Temperature °C\"]"
      ]
    },
    {
      "cell_type": "code",
      "execution_count": null,
      "metadata": {
        "id": "fIGpPobxpfd3"
      },
      "outputs": [],
      "source": [
        "x = df[features].values\n",
        "y = df[label].values"
      ]
    },
    {
      "cell_type": "code",
      "execution_count": null,
      "metadata": {
        "id": "uql3_bqYpfd4"
      },
      "outputs": [],
      "source": [
        "# x , y"
      ]
    },
    {
      "cell_type": "code",
      "execution_count": null,
      "metadata": {
        "id": "l_wDHJzRpfd5"
      },
      "outputs": [],
      "source": [
        "# Use sklearn to split the features and labels into a training/test set. (90% train, 10% test)\n",
        "\n",
        "x_train, x_test, y_train, y_test = train_test_split(x, y, test_size = .1, random_state = 0)"
      ]
    },
    {
      "cell_type": "code",
      "execution_count": null,
      "metadata": {
        "id": "bPI0aU7Lpfd5",
        "outputId": "7df75605-fd3f-41fc-d1be-4507ade557a8"
      },
      "outputs": [
        {
          "data": {
            "text/plain": [
              "((900, 2), (100, 2), (900, 1), (100, 1))"
            ]
          },
          "execution_count": 37,
          "metadata": {},
          "output_type": "execute_result"
        }
      ],
      "source": [
        "x_train.shape , x_test.shape , y_train.shape , y_test.shape"
      ]
    },
    {
      "cell_type": "markdown",
      "metadata": {
        "id": "djugMEUQpfd5"
      },
      "source": [
        "# Part 3. Perform a Linear Regression"
      ]
    },
    {
      "cell_type": "code",
      "execution_count": null,
      "metadata": {
        "id": "lAyTSlHDpfd6",
        "outputId": "8d14845f-7bf0-43e8-fff5-9046041c7152"
      },
      "outputs": [
        {
          "data": {
            "text/plain": [
              "LinearRegression()"
            ]
          },
          "execution_count": 38,
          "metadata": {},
          "output_type": "execute_result"
        }
      ],
      "source": [
        "# Use sklearn to train a model on the training set\n",
        "model = LinearRegression()\n",
        "model.fit(x_train, y_train)"
      ]
    },
    {
      "cell_type": "code",
      "execution_count": null,
      "metadata": {
        "id": "RDnfIPTipfd6",
        "outputId": "6d349f9f-0067-41fa-f5e5-1aa12c342896"
      },
      "outputs": [
        {
          "data": {
            "text/plain": [
              "array([[ 389.61986015],\n",
              "       [ 575.21612064],\n",
              "       [1114.44411221],\n",
              "       [ 249.88117485],\n",
              "       [ 272.60958484],\n",
              "       [ 300.17801125],\n",
              "       [ 203.48481326],\n",
              "       [ 853.56557591],\n",
              "       [ 232.20107385],\n",
              "       [ 281.72863101],\n",
              "       [ 476.74695771],\n",
              "       [1065.18995783],\n",
              "       [ 782.22069437],\n",
              "       [ 383.68987485],\n",
              "       [ 229.37542796],\n",
              "       [1036.51433101],\n",
              "       [ 258.79486236],\n",
              "       [ 597.33782993],\n",
              "       [ 472.34656507],\n",
              "       [ 551.17261323],\n",
              "       [1234.08067822],\n",
              "       [ 410.31480796],\n",
              "       [ 554.46613542],\n",
              "       [1211.09824566],\n",
              "       [ 392.92403359],\n",
              "       [ 999.17844871],\n",
              "       [ 215.42657808],\n",
              "       [ 529.3687714 ],\n",
              "       [ 529.88816997],\n",
              "       [ 386.26900228],\n",
              "       [ 409.44180246],\n",
              "       [ 145.90250563],\n",
              "       [1275.30404849],\n",
              "       [ 603.72326741],\n",
              "       [1206.32003184],\n",
              "       [ 434.93207673],\n",
              "       [ 710.60275556],\n",
              "       [ 918.95506319],\n",
              "       [1051.92538328],\n",
              "       [ 464.51967653],\n",
              "       [ 204.19578745],\n",
              "       [ 242.04394255],\n",
              "       [ 193.81504923],\n",
              "       [ 367.28840077],\n",
              "       [ 379.8402619 ],\n",
              "       [ 526.89850452],\n",
              "       [ 485.62685827],\n",
              "       [ 401.57307112],\n",
              "       [ 464.58289421],\n",
              "       [ 508.95005503],\n",
              "       [ 760.90573911],\n",
              "       [ 320.96922355],\n",
              "       [ 728.74935693],\n",
              "       [ 580.83748376],\n",
              "       [ 509.6773909 ],\n",
              "       [ 770.07203951],\n",
              "       [ 840.40661869],\n",
              "       [ 536.71811198],\n",
              "       [ 236.63277955],\n",
              "       [1079.12340079],\n",
              "       [1030.38489249],\n",
              "       [ 444.9854356 ],\n",
              "       [ 409.07251137],\n",
              "       [ 473.00437472],\n",
              "       [ 359.43626314],\n",
              "       [ 817.51498808],\n",
              "       [ 461.91827854],\n",
              "       [ 595.34873724],\n",
              "       [ 143.01151579],\n",
              "       [ 375.85535966],\n",
              "       [  11.21228067],\n",
              "       [ 625.01671455],\n",
              "       [ 813.39464289],\n",
              "       [ 575.03808772],\n",
              "       [ 468.96980483],\n",
              "       [ 642.2134011 ],\n",
              "       [ 563.68478792],\n",
              "       [ 861.83126131],\n",
              "       [ 585.98460994],\n",
              "       [  40.54222237],\n",
              "       [ 739.79493362],\n",
              "       [ 699.50772293],\n",
              "       [ 537.61459407],\n",
              "       [ 403.40747698],\n",
              "       [ 196.92924351],\n",
              "       [ 284.12657578],\n",
              "       [ 690.97617511],\n",
              "       [ 750.71854905],\n",
              "       [ 712.00716788],\n",
              "       [ 463.35903913],\n",
              "       [ 241.03350444],\n",
              "       [ 486.626844  ],\n",
              "       [ 387.91684631],\n",
              "       [ 218.59719   ],\n",
              "       [ 457.62757572],\n",
              "       [1207.49359105],\n",
              "       [ 136.81090844],\n",
              "       [ 325.23105782],\n",
              "       [ 182.9384421 ],\n",
              "       [ 369.63067098]])"
            ]
          },
          "execution_count": 39,
          "metadata": {},
          "output_type": "execute_result"
        }
      ],
      "source": [
        "# Create a sample datapoint and predict the output of that sample with the trained model\n",
        "\n",
        "y_pred = model.predict(x_test)\n",
        "y_pred"
      ]
    },
    {
      "cell_type": "code",
      "execution_count": null,
      "metadata": {
        "id": "21Ys_DbApfd6",
        "outputId": "cc80b50a-8930-42b2-b2aa-edecf4e14613"
      },
      "outputs": [
        {
          "data": {
            "text/plain": [
              "array([[459.43732195]])"
            ]
          },
          "execution_count": 40,
          "metadata": {},
          "output_type": "execute_result"
        }
      ],
      "source": [
        "model.predict([[647, 6.244743e+05]])"
      ]
    },
    {
      "cell_type": "code",
      "execution_count": null,
      "metadata": {
        "id": "Vetx7LuZpfd7",
        "outputId": "e14b1311-c683-401c-c159-3d1dc312f269"
      },
      "outputs": [
        {
          "data": {
            "text/plain": [
              "0.7201592080149567"
            ]
          },
          "execution_count": 41,
          "metadata": {},
          "output_type": "execute_result"
        }
      ],
      "source": [
        "# predict with r2 score\n",
        "r2_score(y_test, y_pred)\n"
      ]
    },
    {
      "cell_type": "code",
      "execution_count": null,
      "metadata": {
        "id": "rrG5nAZopfd7"
      },
      "outputs": [],
      "source": [
        "# Report on the score for that model, in your own words (markdown, not code) explain what the score means"
      ]
    },
    {
      "cell_type": "markdown",
      "metadata": {
        "id": "N29CcqDLpfd7"
      },
      "source": [
        "# I got a r2 score of 72% \n",
        "This is a statistical measure of fit that indicates how much variation of a dependent variable is explained by the independent variable."
      ]
    },
    {
      "cell_type": "code",
      "execution_count": null,
      "metadata": {
        "id": "0TQWz895pfd7",
        "outputId": "8e3c9e9f-d4fb-457d-dcfa-71de158d240a"
      },
      "outputs": [
        {
          "data": {
            "text/html": [
              "<div>\n",
              "<style scoped>\n",
              "    .dataframe tbody tr th:only-of-type {\n",
              "        vertical-align: middle;\n",
              "    }\n",
              "\n",
              "    .dataframe tbody tr th {\n",
              "        vertical-align: top;\n",
              "    }\n",
              "\n",
              "    .dataframe thead th {\n",
              "        text-align: right;\n",
              "    }\n",
              "</style>\n",
              "<table border=\"1\" class=\"dataframe\">\n",
              "  <thead>\n",
              "    <tr style=\"text-align: right;\">\n",
              "      <th></th>\n",
              "      <th>coefficient</th>\n",
              "    </tr>\n",
              "  </thead>\n",
              "  <tbody>\n",
              "    <tr>\n",
              "      <th>Mols KCL</th>\n",
              "      <td>-0.766313</td>\n",
              "    </tr>\n",
              "    <tr>\n",
              "      <th>Size nm^3</th>\n",
              "      <td>0.000799</td>\n",
              "    </tr>\n",
              "  </tbody>\n",
              "</table>\n",
              "</div>"
            ],
            "text/plain": [
              "           coefficient\n",
              "Mols KCL     -0.766313\n",
              "Size nm^3     0.000799"
            ]
          },
          "execution_count": 43,
          "metadata": {},
          "output_type": "execute_result"
        }
      ],
      "source": [
        "# Extract the coefficents and intercept from the model and write an equation for your h(x) using LaTeX\n",
        "\n",
        "coefficient_values = model.coef_\n",
        "\n",
        "df_coefficients = pd.DataFrame(coefficient_values, columns=features).T\n",
        "\n",
        "df_coefficients.columns = ['coefficient']\n",
        "\n",
        "df_coefficients"
      ]
    },
    {
      "cell_type": "code",
      "execution_count": null,
      "metadata": {
        "id": "c_zw-B35pfd8",
        "outputId": "181d33a9-525b-4e20-dfd5-c76568e2991c"
      },
      "outputs": [
        {
          "data": {
            "text/plain": [
              "(array([[-0.76631279,  0.00079873]]), array([456.45436197]))"
            ]
          },
          "execution_count": 44,
          "metadata": {},
          "output_type": "execute_result"
        }
      ],
      "source": [
        "model.coef_ , model.intercept_"
      ]
    },
    {
      "cell_type": "markdown",
      "metadata": {
        "id": "T2QbApEdpfd8"
      },
      "source": [
        "$ h(x) = (\\theta_0) + (\\theta_1 * x_1 )+ (\\theta_2 * x_2) $"
      ]
    },
    {
      "cell_type": "markdown",
      "metadata": {
        "id": "Ha9xIheDpfd8"
      },
      "source": [
        "$ h(x) = (\\theta_0) + (\\theta_1 * -0.76631279)  + (\\theta_2 * 0.00079873) $"
      ]
    },
    {
      "cell_type": "markdown",
      "metadata": {
        "id": "rYWW0J6ipfd8"
      },
      "source": [
        "# Part 4. Use Cross Validation"
      ]
    },
    {
      "cell_type": "code",
      "execution_count": null,
      "metadata": {
        "id": "h4dAU_nqpfd8",
        "outputId": "6474a6dc-ae9c-44c7-f555-1e858051a1bf"
      },
      "outputs": [
        {
          "data": {
            "text/plain": [
              "array([0.68052641, 0.70016562])"
            ]
          },
          "execution_count": 19,
          "metadata": {},
          "output_type": "execute_result"
        }
      ],
      "source": [
        "# Use the cross_val_score function to repeat your experiment across many shuffles of the data\n",
        "\n",
        "# model = svm.SVC(kernel='linear', C=1, random_state=0)\n",
        "\n",
        "scores = cross_val_score(model, x_train, y_train, cv=2)\n",
        "scores\n"
      ]
    },
    {
      "cell_type": "code",
      "execution_count": null,
      "metadata": {
        "id": "h5LYe_aNpfd9",
        "outputId": "648e84f5-a1f9-477b-bb61-d678cd951881"
      },
      "outputs": [
        {
          "data": {
            "text/plain": [
              "array([0.66188303, 0.65384327, 0.70364025, 0.64105629, 0.75257321,\n",
              "       0.71197562, 0.69838721, 0.74670181, 0.64573598, 0.69400968])"
            ]
          },
          "execution_count": 24,
          "metadata": {},
          "output_type": "execute_result"
        }
      ],
      "source": [
        "n_samples = x.shape[0]\n",
        "cv = ShuffleSplit(n_splits = 5, test_size = 0.3, random_state = 0)\n",
        "cross_val_score(model, x, y, cv = 10)"
      ]
    },
    {
      "cell_type": "code",
      "execution_count": null,
      "metadata": {
        "id": "ql2SD7nYpfd9"
      },
      "outputs": [],
      "source": [
        "# Report on their finding and their significance"
      ]
    },
    {
      "cell_type": "markdown",
      "metadata": {
        "id": "L0ztOC0Rpfd9"
      },
      "source": [
        "# My values ranges between 0.64 to 0.75 which means that I did not just get lucky with my previous score."
      ]
    },
    {
      "cell_type": "markdown",
      "metadata": {
        "id": "y16tYjNGpfd9"
      },
      "source": [
        "# Part 5. Using Polynomial Regression"
      ]
    },
    {
      "cell_type": "code",
      "execution_count": null,
      "metadata": {
        "id": "o8DB22TSpfd9",
        "outputId": "211f31aa-54db-46b6-b284-60be4fcd5314"
      },
      "outputs": [
        {
          "data": {
            "text/plain": [
              "array([[1.00000000e+00, 6.10000000e+01, 2.51831429e+03, 3.72100000e+03,\n",
              "        1.53617171e+05, 6.34190684e+06],\n",
              "       [1.00000000e+00, 3.86000000e+02, 6.51841029e+05, 1.48996000e+05,\n",
              "        2.51610637e+08, 4.24896727e+11],\n",
              "       [1.00000000e+00, 7.72000000e+02, 8.23036114e+05, 5.95984000e+05,\n",
              "        6.35383880e+08, 6.77388445e+11],\n",
              "       ...,\n",
              "       [1.00000000e+00, 8.01000000e+02, 2.65273457e+05, 6.41601000e+05,\n",
              "        2.12484039e+08, 7.03700070e+10],\n",
              "       [1.00000000e+00, 7.44000000e+02, 1.10481531e+06, 5.53536000e+05,\n",
              "        8.21982594e+08, 1.22061688e+12],\n",
              "       [1.00000000e+00, 9.79000000e+02, 9.98594029e+05, 9.58441000e+05,\n",
              "        9.77623554e+08, 9.97190034e+11]])"
            ]
          },
          "execution_count": 58,
          "metadata": {},
          "output_type": "execute_result"
        }
      ],
      "source": [
        "# Using the PolynomialFeatures library perform another regression on an augmented dataset of degree 2\n",
        "\n",
        "# poly (x_train, x_test)\n",
        "# fit the model line 36\n",
        "# write the equation\n",
        "\n",
        "# x_train\n",
        "trans = PolynomialFeatures(degree = 2)\n",
        "trans.fit_transform(x_train)"
      ]
    },
    {
      "cell_type": "code",
      "execution_count": null,
      "metadata": {
        "id": "_0MvB4nXpfd9"
      },
      "outputs": [],
      "source": [
        "x_poly = trans.transform(x_train)"
      ]
    },
    {
      "cell_type": "code",
      "execution_count": null,
      "metadata": {
        "id": "O48PvoIDpfd-"
      },
      "outputs": [],
      "source": [
        "model = LinearRegression().fit(x_poly, y_train)"
      ]
    },
    {
      "cell_type": "code",
      "execution_count": null,
      "metadata": {
        "id": "4vKdSbZ5pfd-",
        "outputId": "45114fde-2c27-46ab-f2df-85739d2cbe9d"
      },
      "outputs": [
        {
          "name": "stdout",
          "output_type": "stream",
          "text": [
            "The intercept is: [433.55192854]\n"
          ]
        }
      ],
      "source": [
        "print('The intercept is:', model.intercept_)"
      ]
    },
    {
      "cell_type": "code",
      "execution_count": null,
      "metadata": {
        "id": "q8FYG9Jnpfd-",
        "outputId": "d49ae65d-8255-45a7-f80f-72c8b4123e1a"
      },
      "outputs": [
        {
          "name": "stdout",
          "output_type": "stream",
          "text": [
            "The coeffients are: [[ 0.00000000e+00 -1.91851446e+00  2.09486321e-03  1.66478727e-03\n",
            "  -1.80203746e-06 -2.17871432e-12]]\n"
          ]
        }
      ],
      "source": [
        "print('The coeffients are:', model.coef_)"
      ]
    },
    {
      "cell_type": "code",
      "execution_count": null,
      "metadata": {
        "id": "O9lECWR8pfd-"
      },
      "outputs": [],
      "source": [
        "# x_test"
      ]
    },
    {
      "cell_type": "code",
      "execution_count": null,
      "metadata": {
        "id": "NoIGuWLHpfd-",
        "outputId": "bd1e3c0e-71bc-45b9-a505-633ec82cd1f1"
      },
      "outputs": [
        {
          "data": {
            "text/plain": [
              "array([[1.00000000e+00, 2.65000000e+02, 1.70568429e+05, 7.02250000e+04,\n",
              "        4.52006336e+07, 2.90935888e+10],\n",
              "       [1.00000000e+00, 1.45000000e+02, 2.87802714e+05, 2.10250000e+04,\n",
              "        4.17313936e+07, 8.28304024e+10],\n",
              "       [1.00000000e+00, 7.86000000e+02, 1.57789131e+06, 6.17796000e+05,\n",
              "        1.24022257e+09, 2.48974100e+12],\n",
              "       [1.00000000e+00, 3.17000000e+02, 4.55071143e+04, 1.00489000e+05,\n",
              "        1.44257552e+07, 2.07089745e+09],\n",
              "       [1.00000000e+00, 2.77000000e+02, 3.55862571e+04, 7.67290000e+04,\n",
              "        9.85739323e+06, 1.26638170e+09],\n",
              "       [1.00000000e+00, 5.35000000e+02, 3.17629857e+05, 2.86225000e+05,\n",
              "        1.69931974e+08, 1.00888726e+11],\n",
              "       [1.00000000e+00, 6.65000000e+02, 3.21295000e+05, 4.42225000e+05,\n",
              "        2.13661175e+08, 1.03230477e+11],\n",
              "       [1.00000000e+00, 6.01000000e+02, 1.07378403e+06, 3.61201000e+05,\n",
              "        6.45344201e+08, 1.15301214e+12],\n",
              "       [1.00000000e+00, 3.47000000e+02, 5.21542571e+04, 1.20409000e+05,\n",
              "        1.80975272e+07, 2.72006654e+09],\n",
              "       [1.00000000e+00, 3.29000000e+02, 9.68926000e+04, 1.08241000e+05,\n",
              "        3.18776654e+07, 9.38817593e+09],\n",
              "       [1.00000000e+00, 8.19000000e+02, 8.11164600e+05, 6.70761000e+05,\n",
              "        6.64343807e+08, 6.57988008e+11],\n",
              "       [1.00000000e+00, 8.36000000e+02, 1.56419646e+06, 6.98896000e+05,\n",
              "        1.30766824e+09, 2.44671056e+12],\n",
              "       [1.00000000e+00, 6.09000000e+02, 9.92136600e+05, 3.70881000e+05,\n",
              "        6.04211189e+08, 9.84335033e+11],\n",
              "       [1.00000000e+00, 1.45000000e+02, 4.80147143e+04, 2.10250000e+04,\n",
              "        6.96213357e+06, 2.30541279e+09],\n",
              "       [1.00000000e+00, 4.51000000e+02, 1.48395457e+05, 2.03401000e+05,\n",
              "        6.69263512e+07, 2.20212117e+10],\n",
              "       [1.00000000e+00, 7.21000000e+02, 1.41796260e+06, 5.19841000e+05,\n",
              "        1.02235103e+09, 2.01061793e+12],\n",
              "       [1.00000000e+00, 7.93000000e+02, 5.13347114e+05, 6.28849000e+05,\n",
              "        4.07084262e+08, 2.63525260e+11],\n",
              "       [1.00000000e+00, 2.16000000e+02, 3.83617029e+05, 4.66560000e+04,\n",
              "        8.28612782e+07, 1.47162025e+11],\n",
              "       [1.00000000e+00, 7.50000000e+01, 9.18527143e+04, 5.62500000e+03,\n",
              "        6.88895357e+06, 8.43692112e+09],\n",
              "       [1.00000000e+00, 2.95000000e+02, 4.01612429e+05, 8.70250000e+04,\n",
              "        1.18475666e+08, 1.61292543e+11],\n",
              "       [1.00000000e+00, 9.93000000e+02, 1.92627283e+06, 9.86049000e+05,\n",
              "        1.91278892e+09, 3.71052701e+12],\n",
              "       [1.00000000e+00, 1.20000000e+02, 5.73634286e+04, 1.44000000e+04,\n",
              "        6.88361143e+06, 3.29056294e+09],\n",
              "       [1.00000000e+00, 1.11000000e+02, 2.29204029e+05, 1.23210000e+04,\n",
              "        2.54416472e+07, 5.25344867e+10],\n",
              "       [1.00000000e+00, 9.84000000e+02, 1.88886446e+06, 9.68256000e+05,\n",
              "        1.85864263e+09, 3.56780894e+12],\n",
              "       [1.00000000e+00, 5.11000000e+02, 4.10720600e+05, 2.61121000e+05,\n",
              "        2.09878227e+08, 1.68691411e+11],\n",
              "       [1.00000000e+00, 7.84000000e+02, 1.43166160e+06, 6.14656000e+05,\n",
              "        1.12242269e+09, 2.04965494e+12],\n",
              "       [1.00000000e+00, 3.79000000e+02, 6.18540286e+04, 1.43641000e+05,\n",
              "        2.34426768e+07, 3.82592085e+09],\n",
              "       [1.00000000e+00, 2.55000000e+02, 3.35937857e+05, 6.50250000e+04,\n",
              "        8.56641536e+07, 1.12854244e+11],\n",
              "       [1.00000000e+00, 2.79000000e+02, 3.59614029e+05, 7.78410000e+04,\n",
              "        1.00332314e+08, 1.29322250e+11],\n",
              "       [1.00000000e+00, 6.94000000e+02, 5.77961029e+05, 4.81636000e+05,\n",
              "        4.01104954e+08, 3.34038951e+11],\n",
              "       [1.00000000e+00, 5.11000000e+02, 4.31400600e+05, 2.61121000e+05,\n",
              "        2.20445707e+08, 1.86106478e+11],\n",
              "       [1.00000000e+00, 5.21000000e+02, 1.11047457e+05, 2.71441000e+05,\n",
              "        5.78557251e+07, 1.23315377e+10],\n",
              "       [1.00000000e+00, 9.87000000e+02, 1.97212740e+06, 9.74169000e+05,\n",
              "        1.94648974e+09, 3.88928648e+12],\n",
              "       [1.00000000e+00, 5.62000000e+02, 7.23568114e+05, 3.15844000e+05,\n",
              "        4.06645280e+08, 5.23550816e+11],\n",
              "       [1.00000000e+00, 9.86000000e+02, 1.88480103e+06, 9.72196000e+05,\n",
              "        1.85841381e+09, 3.55247492e+12],\n",
              "       [1.00000000e+00, 7.21000000e+02, 6.64790600e+05, 5.19841000e+05,\n",
              "        4.79314023e+08, 4.41946542e+11],\n",
              "       [1.00000000e+00, 7.56000000e+02, 1.04350560e+06, 5.71536000e+05,\n",
              "        7.88890234e+08, 1.08890394e+12],\n",
              "       [1.00000000e+00, 8.00000000e+02, 1.34657371e+06, 6.40000000e+05,\n",
              "        1.07725897e+09, 1.81326077e+12],\n",
              "       [1.00000000e+00, 8.94000000e+02, 1.60323531e+06, 7.99236000e+05,\n",
              "        1.43329237e+09, 2.57036347e+12],\n",
              "       [1.00000000e+00, 5.00000000e+00, 1.48947143e+04, 2.50000000e+01,\n",
              "        7.44735715e+04, 2.21852514e+08],\n",
              "       [1.00000000e+00, 4.01000000e+02, 6.89003143e+04, 1.60801000e+05,\n",
              "        2.76290260e+07, 4.74725331e+09],\n",
              "       [1.00000000e+00, 9.82000000e+02, 6.73704114e+05, 9.64324000e+05,\n",
              "        6.61577440e+08, 4.53877234e+11],\n",
              "       [1.00000000e+00, 4.21000000e+02, 7.50920286e+04, 1.77241000e+05,\n",
              "        3.16137440e+07, 5.63881275e+09],\n",
              "       [1.00000000e+00, 4.97000000e+02, 3.65193400e+05, 2.47009000e+05,\n",
              "        1.81501120e+08, 1.33366219e+11],\n",
              "       [1.00000000e+00, 3.75000000e+02, 2.63859857e+05, 1.40625000e+05,\n",
              "        9.89474464e+07, 6.96220242e+10],\n",
              "       [1.00000000e+00, 1.56000000e+02, 2.37863314e+05, 2.43360000e+04,\n",
              "        3.71066770e+07, 5.65789563e+10],\n",
              "       [1.00000000e+00, 1.09000000e+02, 1.41099457e+05, 1.18810000e+04,\n",
              "        1.53798408e+07, 1.99090568e+10],\n",
              "       [1.00000000e+00, 8.20000000e+02, 7.18007429e+05, 6.72400000e+05,\n",
              "        5.88766091e+08, 5.15534668e+11],\n",
              "       [1.00000000e+00, 7.50000000e+01, 8.21327143e+04, 5.62500000e+03,\n",
              "        6.15995357e+06, 6.74578276e+09],\n",
              "       [1.00000000e+00, 5.20000000e+01, 1.15613257e+05, 2.70400000e+03,\n",
              "        6.01188937e+06, 1.33664252e+10],\n",
              "       [1.00000000e+00, 6.47000000e+02, 1.00190826e+06, 4.18609000e+05,\n",
              "        6.48234642e+08, 1.00382016e+12],\n",
              "       [1.00000000e+00, 1.97000000e+02, 1.93788286e+04, 3.88090000e+04,\n",
              "        3.81762923e+06, 3.75538997e+08],\n",
              "       [1.00000000e+00, 8.86000000e+02, 1.19094846e+06, 7.84996000e+05,\n",
              "        1.05518033e+09, 1.41835823e+12],\n",
              "       [1.00000000e+00, 6.49000000e+02, 7.78384314e+05, 4.21201000e+05,\n",
              "        5.05171420e+08, 6.05882141e+11],\n",
              "       [1.00000000e+00, 7.20000000e+01, 1.35712114e+05, 5.18400000e+03,\n",
              "        9.77127223e+06, 1.84177780e+10],\n",
              "       [1.00000000e+00, 4.91000000e+02, 8.63716029e+05, 2.41081000e+05,\n",
              "        4.24084570e+08, 7.46005378e+11],\n",
              "       [1.00000000e+00, 9.45000000e+02, 1.38734700e+06, 8.93025000e+05,\n",
              "        1.31104292e+09, 1.92473170e+12],\n",
              "       [1.00000000e+00, 2.45000000e+02, 3.35545000e+05, 6.00250000e+04,\n",
              "        8.22085250e+07, 1.12590447e+11],\n",
              "       [1.00000000e+00, 7.20000000e+02, 4.15563429e+05, 5.18400000e+05,\n",
              "        2.99205669e+08, 1.72692963e+11],\n",
              "       [1.00000000e+00, 7.37000000e+02, 1.48665911e+06, 5.43169000e+05,\n",
              "        1.09566777e+09, 2.21015532e+12],\n",
              "       [1.00000000e+00, 6.90000000e+02, 1.38054686e+06, 4.76100000e+05,\n",
              "        9.52577331e+08, 1.90590962e+12],\n",
              "       [1.00000000e+00, 2.90000000e+01, 1.34640286e+04, 8.41000000e+02,\n",
              "        3.90456829e+05, 1.81280065e+08],\n",
              "       [1.00000000e+00, 8.90000000e+01, 2.60663143e+04, 7.92100000e+03,\n",
              "        2.31990197e+06, 6.79452741e+08],\n",
              "       [1.00000000e+00, 8.66000000e+02, 8.51571314e+05, 7.49956000e+05,\n",
              "        7.37460758e+08, 7.25173703e+11],\n",
              "       [1.00000000e+00, 1.37000000e+02, 9.97425714e+03, 1.87690000e+04,\n",
              "        1.36647323e+06, 9.94858056e+07],\n",
              "       [1.00000000e+00, 8.87000000e+02, 1.30304111e+06, 7.86769000e+05,\n",
              "        1.15579747e+09, 1.69791614e+12],\n",
              "       [1.00000000e+00, 1.08000000e+02, 1.10457257e+05, 1.16640000e+04,\n",
              "        1.19293838e+07, 1.22008056e+10],\n",
              "       [1.00000000e+00, 7.58000000e+02, 9.01128114e+05, 5.74564000e+05,\n",
              "        6.83055111e+08, 8.12031878e+11],\n",
              "       [1.00000000e+00, 7.22000000e+02, 3.00269829e+05, 5.21284000e+05,\n",
              "        2.16794816e+08, 9.01619700e+10],\n",
              "       [1.00000000e+00, 1.13000000e+02, 7.50482857e+03, 1.27690000e+04,\n",
              "        8.48045629e+05, 5.63224519e+07],\n",
              "       [1.00000000e+00, 7.68000000e+02, 1.79392114e+05, 5.89824000e+05,\n",
              "        1.37773144e+08, 3.21815307e+10],\n",
              "       [1.00000000e+00, 2.06000000e+02, 4.08676457e+05, 4.24360000e+04,\n",
              "        8.41873502e+07, 1.67016447e+11],\n",
              "       [1.00000000e+00, 6.65000000e+02, 1.08489300e+06, 4.42225000e+05,\n",
              "        7.21453845e+08, 1.17699282e+12],\n",
              "       [1.00000000e+00, 1.95000000e+02, 3.35550429e+05, 3.80250000e+04,\n",
              "        6.54323336e+07, 1.12594090e+11],\n",
              "       [1.00000000e+00, 7.00000000e+01, 8.28280000e+04, 4.90000000e+03,\n",
              "        5.79796000e+06, 6.86047758e+09],\n",
              "       [1.00000000e+00, 7.32000000e+02, 9.34857257e+05, 5.35824000e+05,\n",
              "        6.84315512e+08, 8.73958091e+11],\n",
              "       [1.00000000e+00, 5.18000000e+02, 6.31226400e+05, 2.68324000e+05,\n",
              "        3.26975275e+08, 3.98446768e+11],\n",
              "       [1.00000000e+00, 6.76000000e+02, 1.15608846e+06, 4.56976000e+05,\n",
              "        7.81515797e+08, 1.33654052e+12],\n",
              "       [1.00000000e+00, 2.07000000e+02, 3.60768257e+05, 4.28490000e+04,\n",
              "        7.46790292e+07, 1.30153735e+11],\n",
              "       [1.00000000e+00, 7.10000000e+02, 1.60466857e+05, 5.04100000e+05,\n",
              "        1.13931469e+08, 2.57496122e+10],\n",
              "       [1.00000000e+00, 9.25000000e+02, 1.24219443e+06, 8.55625000e+05,\n",
              "        1.14902985e+09, 1.54304700e+12],\n",
              "       [1.00000000e+00, 4.71000000e+02, 7.56182314e+05, 2.21841000e+05,\n",
              "        3.56161870e+08, 5.71811692e+11],\n",
              "       [1.00000000e+00, 2.84000000e+02, 3.74084457e+05, 8.06560000e+04,\n",
              "        1.06239986e+08, 1.39939181e+11],\n",
              "       [1.00000000e+00, 2.74000000e+02, 1.96465029e+05, 7.50760000e+04,\n",
              "        5.38314178e+07, 3.85985075e+10],\n",
              "       [1.00000000e+00, 5.75000000e+02, 2.26740429e+05, 3.30625000e+05,\n",
              "        1.30375746e+08, 5.14112220e+10],\n",
              "       [1.00000000e+00, 2.57000000e+02, 3.08171143e+04, 6.60490000e+04,\n",
              "        7.91999837e+06, 9.49694533e+08],\n",
              "       [1.00000000e+00, 4.85000000e+02, 7.58932714e+05, 2.35225000e+05,\n",
              "        3.68082366e+08, 5.75978865e+11],\n",
              "       [1.00000000e+00, 4.39000000e+02, 7.89596314e+05, 1.92721000e+05,\n",
              "        3.46632782e+08, 6.23462340e+11],\n",
              "       [1.00000000e+00, 4.73000000e+02, 7.73750257e+05, 2.23729000e+05,\n",
              "        3.65983872e+08, 5.98689460e+11],\n",
              "       [1.00000000e+00, 2.50000000e+01, 3.26298571e+04, 6.25000000e+02,\n",
              "        8.15746428e+05, 1.06470758e+09],\n",
              "       [1.00000000e+00, 3.74000000e+02, 8.91164571e+04, 1.39876000e+05,\n",
              "        3.33295550e+07, 7.94174293e+09],\n",
              "       [1.00000000e+00, 4.60000000e+01, 8.19084571e+04, 2.11600000e+03,\n",
              "        3.76778903e+06, 6.70899535e+09],\n",
              "       [1.00000000e+00, 4.93000000e+02, 3.87182257e+05, 2.43049000e+05,\n",
              "        1.90880853e+08, 1.49910100e+11],\n",
              "       [1.00000000e+00, 3.73000000e+02, 6.00671143e+04, 1.39129000e+05,\n",
              "        2.24050336e+07, 3.60805822e+09],\n",
              "       [1.00000000e+00, 2.59000000e+02, 2.49956600e+05, 6.70810000e+04,\n",
              "        6.47387594e+07, 6.24783019e+10],\n",
              "       [1.00000000e+00, 8.81000000e+02, 1.78553203e+06, 7.76161000e+05,\n",
              "        1.57305372e+09, 3.18812463e+12],\n",
              "       [1.00000000e+00, 9.27000000e+02, 4.89186257e+05, 8.59329000e+05,\n",
              "        4.53475660e+08, 2.39303194e+11],\n",
              "       [1.00000000e+00, 4.66000000e+02, 2.82796457e+05, 2.17156000e+05,\n",
              "        1.31783149e+08, 7.99738361e+10],\n",
              "       [1.00000000e+00, 6.82000000e+02, 3.11881257e+05, 4.65124000e+05,\n",
              "        2.12703017e+08, 9.72699185e+10],\n",
              "       [1.00000000e+00, 8.23000000e+02, 6.80894257e+05, 6.77329000e+05,\n",
              "        5.60375974e+08, 4.63616989e+11]])"
            ]
          },
          "execution_count": 77,
          "metadata": {},
          "output_type": "execute_result"
        }
      ],
      "source": [
        "trans2 = PolynomialFeatures(degree = 2)\n",
        "trans2.fit_transform(x_test)"
      ]
    },
    {
      "cell_type": "code",
      "execution_count": null,
      "metadata": {
        "id": "7E60MBTHpfd-"
      },
      "outputs": [],
      "source": [
        "x2_poly = trans2.transform(x_test)\n",
        "\n",
        "model = LinearRegression().fit(x2_poly, y_test)"
      ]
    },
    {
      "cell_type": "code",
      "execution_count": null,
      "metadata": {
        "id": "yK-vigckpfd_",
        "outputId": "5cdb048d-54e5-486e-9d5a-05c1c9552bdc"
      },
      "outputs": [
        {
          "name": "stdout",
          "output_type": "stream",
          "text": [
            "The intercept is: [556.59522473]\n"
          ]
        }
      ],
      "source": [
        "print('The intercept is:', model.intercept_)"
      ]
    },
    {
      "cell_type": "code",
      "execution_count": null,
      "metadata": {
        "id": "H3hKuvhipfd_",
        "outputId": "030ada1a-d3a5-406a-d478-2051cc24d81b"
      },
      "outputs": [
        {
          "name": "stdout",
          "output_type": "stream",
          "text": [
            "The coeffient is: [[ 0.00000000e+00 -2.50547471e+00  2.14544485e-03  2.42487062e-03\n",
            "  -2.26388257e-06  1.61148234e-10]]\n"
          ]
        }
      ],
      "source": [
        "print('The coeffient is:', model.coef_)"
      ]
    },
    {
      "cell_type": "code",
      "execution_count": null,
      "metadata": {
        "id": "dEIOSvEypfd_"
      },
      "outputs": [],
      "source": [
        "# Report on the metrics and output the resultant equation as you did in Part 3.\n"
      ]
    },
    {
      "cell_type": "markdown",
      "metadata": {
        "id": "pIx1vQ7epfd_"
      },
      "source": [
        "$ h(x) = (\\theta_0) + (\\theta_1 * x_1 )+ (\\theta_2 * x_2) + (\\theta_3 * x_3 )+ (\\theta_4 * x_4) + (\\theta_5 * x_5 )+ (\\theta_6 * x_6) $"
      ]
    },
    {
      "cell_type": "markdown",
      "metadata": {
        "id": "hvKG5z-xpfd_"
      },
      "source": [
        "# x_train"
      ]
    },
    {
      "cell_type": "markdown",
      "metadata": {
        "id": "g1jurN6Opfd_"
      },
      "source": [
        "$ h(x) = (\\theta_0) + (\\theta_1 * 0.00000000e+00 )+ (\\theta_2 * -1.91851446e+00) + (\\theta_3 * 2.09486321e-03 )+ (\\theta_4 * 1.66478727e-03) + (\\theta_5 * -1.80203746e-06 )+ (\\theta_6 * -2.17871432e-12) $"
      ]
    },
    {
      "cell_type": "markdown",
      "metadata": {
        "id": "06zxL5Y_pfeA"
      },
      "source": [
        "# x_test"
      ]
    },
    {
      "cell_type": "markdown",
      "metadata": {
        "id": "j4MWvRjHpfeA"
      },
      "source": [
        "$ h(x) = (\\theta_0) + (\\theta_1 * 0.00000000e+00 )+ (\\theta_2 * -2.50547471e+00) + (\\theta_3 * 2.14544485e-03 )+ (\\theta_4 * 2.42487062e-03) + (\\theta_5 * -2.26388257e-06 )+ (\\theta_6 * 1.61148234e-10) $"
      ]
    },
    {
      "cell_type": "code",
      "execution_count": null,
      "metadata": {
        "id": "TTwmSHTIpfeA"
      },
      "outputs": [],
      "source": [
        ""
      ]
    }
  ],
  "metadata": {
    "kernelspec": {
      "display_name": "Python 3",
      "language": "python",
      "name": "python3"
    },
    "language_info": {
      "codemirror_mode": {
        "name": "ipython",
        "version": 3
      },
      "file_extension": ".py",
      "mimetype": "text/x-python",
      "name": "python",
      "nbconvert_exporter": "python",
      "pygments_lexer": "ipython3",
      "version": "3.8.3"
    },
    "colab": {
      "name": "Assignment 3 - Equation of a slime.ipynb",
      "provenance": [],
      "include_colab_link": true
    }
  },
  "nbformat": 4,
  "nbformat_minor": 0
}